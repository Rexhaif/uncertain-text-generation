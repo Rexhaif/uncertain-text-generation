{
 "cells": [
  {
   "cell_type": "code",
   "execution_count": 1,
   "metadata": {},
   "outputs": [],
   "source": [
    "import os\n",
    "os.environ['CUDA_DEVICE_ORDER'] = 'PCI_BUS_ID'\n",
    "os.environ['CUDA_VISIBLE_DEVICES'] = '5'"
   ]
  },
  {
   "cell_type": "code",
   "execution_count": 2,
   "metadata": {},
   "outputs": [],
   "source": [
    "import transformers as tr\n",
    "import datasets as ds\n",
    "import torch"
   ]
  },
  {
   "cell_type": "code",
   "execution_count": 3,
   "metadata": {},
   "outputs": [
    {
     "name": "stderr",
     "output_type": "stream",
     "text": [
      "Using custom data configuration Rexhaif--mintaka-qa-en-a309a4f0b6175fde\n",
      "Found cached dataset parquet (/root/.cache/huggingface/datasets/Rexhaif___parquet/Rexhaif--mintaka-qa-en-a309a4f0b6175fde/0.0.0/2a3b91fbd88a2c90d1dbbb32b460cf621d31bd5b05b934492fdef7d8d6f236ec)\n"
     ]
    }
   ],
   "source": [
    "dataset = ds.load_dataset(\"Rexhaif/mintaka-qa-en\", split=\"test\")"
   ]
  },
  {
   "cell_type": "code",
   "execution_count": 4,
   "metadata": {},
   "outputs": [
    {
     "data": {
      "application/vnd.jupyter.widget-view+json": {
       "model_id": "dbf96c39e3214a578d026d7dc1422924",
       "version_major": 2,
       "version_minor": 0
      },
      "text/plain": [
       "Downloading:   0%|          | 0.00/1.86k [00:00<?, ?B/s]"
      ]
     },
     "metadata": {},
     "output_type": "display_data"
    },
    {
     "data": {
      "application/vnd.jupyter.widget-view+json": {
       "model_id": "bd5f529df6a54b588e460b59c0708711",
       "version_major": 2,
       "version_minor": 0
      },
      "text/plain": [
       "Downloading:   0%|          | 0.00/631 [00:00<?, ?B/s]"
      ]
     },
     "metadata": {},
     "output_type": "display_data"
    },
    {
     "data": {
      "application/vnd.jupyter.widget-view+json": {
       "model_id": "adf0eb5d66d54cebb2520b9d28381993",
       "version_major": 2,
       "version_minor": 0
      },
      "text/plain": [
       "Downloading:   0%|          | 0.00/792k [00:00<?, ?B/s]"
      ]
     },
     "metadata": {},
     "output_type": "display_data"
    },
    {
     "data": {
      "application/vnd.jupyter.widget-view+json": {
       "model_id": "f2556f3ff17e434c994975657d2be7cd",
       "version_major": 2,
       "version_minor": 0
      },
      "text/plain": [
       "Downloading:   0%|          | 0.00/1.79k [00:00<?, ?B/s]"
      ]
     },
     "metadata": {},
     "output_type": "display_data"
    }
   ],
   "source": [
    "tokenizer = tr.AutoTokenizer.from_pretrained(\"google/t5-xxl-ssm-nq\")"
   ]
  },
  {
   "cell_type": "code",
   "execution_count": 5,
   "metadata": {},
   "outputs": [],
   "source": [
    "def process_fn(examples):\n",
    "    questions = examples[\"question\"]\n",
    "    return tokenizer(\n",
    "        questions,\n",
    "        truncation=True,\n",
    "        max_length=512\n",
    "    )"
   ]
  },
  {
   "cell_type": "code",
   "execution_count": 6,
   "metadata": {},
   "outputs": [
    {
     "data": {
      "application/vnd.jupyter.widget-view+json": {
       "model_id": "0ff4658680924e10adad423e5d2e867e",
       "version_major": 2,
       "version_minor": 0
      },
      "text/plain": [
       "  0%|          | 0/500 [00:00<?, ?ba/s]"
      ]
     },
     "metadata": {},
     "output_type": "display_data"
    }
   ],
   "source": [
    "questions_dataset = dataset.map(\n",
    "    process_fn,\n",
    "    batched=True,\n",
    "    batch_size=8,\n",
    "    remove_columns=dataset.column_names,\n",
    ")\n",
    "answers_dataset = dataset[\"answer\"]"
   ]
  },
  {
   "cell_type": "code",
   "execution_count": 7,
   "metadata": {},
   "outputs": [
    {
     "data": {
      "application/vnd.jupyter.widget-view+json": {
       "model_id": "ee949943e86043f4b5ee41f5eb3b1f8e",
       "version_major": 2,
       "version_minor": 0
      },
      "text/plain": [
       "Downloading:   0%|          | 0.00/44.5G [00:00<?, ?B/s]"
      ]
     },
     "metadata": {},
     "output_type": "display_data"
    }
   ],
   "source": [
    "model = tr.AutoModelForSeq2SeqLM.from_pretrained(\n",
    "    \"google/t5-xxl-ssm-nq\",\n",
    "    device_map='auto',\n",
    "    load_in_8bit=True\n",
    ")"
   ]
  },
  {
   "cell_type": "code",
   "execution_count": 7,
   "metadata": {},
   "outputs": [],
   "source": [
    "collate_fn = tr.DataCollatorWithPadding(\n",
    "    tokenizer=tokenizer, padding=\"longest\", max_length=512, pad_to_multiple_of=8, return_tensors=\"pt\"\n",
    ")\n",
    "data_loader = torch.utils.data.DataLoader(\n",
    "    questions_dataset,\n",
    "    batch_size=8,\n",
    "    collate_fn=collate_fn,\n",
    ")"
   ]
  },
  {
   "cell_type": "code",
   "execution_count": 62,
   "metadata": {},
   "outputs": [],
   "source": [
    "batch = next(iter(data_loader))"
   ]
  },
  {
   "cell_type": "code",
   "execution_count": 63,
   "metadata": {},
   "outputs": [],
   "source": [
    "batch = {k: v.to(model.device) for k, v in batch.items()}\n",
    "outputs = model.generate(\n",
    "    input_ids=batch[\"input_ids\"],\n",
    "    attention_mask=batch[\"attention_mask\"],\n",
    "    max_new_tokens=10,\n",
    "    num_beams=5,\n",
    "    do_sample=False,\n",
    "    num_return_sequences=5,\n",
    "    output_scores=True,\n",
    "    return_dict_in_generate=True\n",
    ")"
   ]
  },
  {
   "cell_type": "code",
   "execution_count": 64,
   "metadata": {},
   "outputs": [
    {
     "name": "stdout",
     "output_type": "stream",
     "text": [
      "The rich extension is already loaded. To reload it, use:\n",
      "  %reload_ext rich\n"
     ]
    }
   ],
   "source": [
    "from rich import print\n",
    "%load_ext rich"
   ]
  },
  {
   "cell_type": "code",
   "execution_count": 65,
   "metadata": {},
   "outputs": [],
   "source": [
    "scores = torch.softmax(outputs.sequences_scores.view(-1, 5), dim=-1)"
   ]
  },
  {
   "cell_type": "code",
   "execution_count": 66,
   "metadata": {},
   "outputs": [],
   "source": [
    "ue_scores = torch.abs(outputs.sequences_scores.view(-1, 5)[:, 0] - outputs.sequences_scores.view(-1, 5)[:, 1])"
   ]
  },
  {
   "cell_type": "code",
   "execution_count": 67,
   "metadata": {},
   "outputs": [],
   "source": [
    "decoded = tokenizer.batch_decode(outputs.sequences.view(8, 5, -1)[:, 0, :], skip_special_tokens=True)"
   ]
  },
  {
   "cell_type": "code",
   "execution_count": 68,
   "metadata": {},
   "outputs": [
    {
     "data": {
      "text/html": [
       "<pre style=\"white-space:pre;overflow-x:auto;line-height:normal;font-family:Menlo,'DejaVu Sans Mono',consolas,'Courier New',monospace\"><span style=\"color: #000080; text-decoration-color: #000080; font-weight: bold\">Question:</span> What man was a famous American author and also a steamboat pilot on the Mississippi River? <span style=\"color: #008000; text-decoration-color: #008000; font-weight: bold\">Answer:</span> Mark \n",
       "Twain <span style=\"color: #800000; text-decoration-color: #800000; font-weight: bold\">Prediction:</span> Harriet Beecher Stowe <span style=\"color: #808000; text-decoration-color: #808000; font-weight: bold\">Score:</span> <span style=\"color: #008080; text-decoration-color: #008080; font-weight: bold\">0.1086</span>\n",
       "</pre>\n"
      ],
      "text/plain": [
       "\u001b[1;34mQuestion:\u001b[0m What man was a famous American author and also a steamboat pilot on the Mississippi River? \u001b[1;32mAnswer:\u001b[0m Mark \n",
       "Twain \u001b[1;31mPrediction:\u001b[0m Harriet Beecher Stowe \u001b[1;33mScore:\u001b[0m \u001b[1;36m0.1086\u001b[0m\n"
      ]
     },
     "metadata": {},
     "output_type": "display_data"
    },
    {
     "data": {
      "text/html": [
       "<pre style=\"white-space:pre;overflow-x:auto;line-height:normal;font-family:Menlo,'DejaVu Sans Mono',consolas,'Courier New',monospace\"><span style=\"color: #000080; text-decoration-color: #000080; font-weight: bold\">Question:</span> How many Academy Awards has Jake Gyllenhaal been nominated for? <span style=\"color: #008000; text-decoration-color: #008000; font-weight: bold\">Answer:</span> <span style=\"color: #008080; text-decoration-color: #008080; font-weight: bold\">1</span> <span style=\"color: #800000; text-decoration-color: #800000; font-weight: bold\">Prediction:</span> four <span style=\"color: #808000; text-decoration-color: #808000; font-weight: bold\">Score:</span> <span style=\"color: #008080; text-decoration-color: #008080; font-weight: bold\">2.1448</span>\n",
       "</pre>\n"
      ],
      "text/plain": [
       "\u001b[1;34mQuestion:\u001b[0m How many Academy Awards has Jake Gyllenhaal been nominated for? \u001b[1;32mAnswer:\u001b[0m \u001b[1;36m1\u001b[0m \u001b[1;31mPrediction:\u001b[0m four \u001b[1;33mScore:\u001b[0m \u001b[1;36m2.1448\u001b[0m\n"
      ]
     },
     "metadata": {},
     "output_type": "display_data"
    },
    {
     "data": {
      "text/html": [
       "<pre style=\"white-space:pre;overflow-x:auto;line-height:normal;font-family:Menlo,'DejaVu Sans Mono',consolas,'Courier New',monospace\"><span style=\"color: #000080; text-decoration-color: #000080; font-weight: bold\">Question:</span> Who is older, The Weeknd or Drake? <span style=\"color: #008000; text-decoration-color: #008000; font-weight: bold\">Answer:</span> Drake <span style=\"color: #800000; text-decoration-color: #800000; font-weight: bold\">Prediction:</span> The Weeknd <span style=\"color: #808000; text-decoration-color: #808000; font-weight: bold\">Score:</span> <span style=\"color: #008080; text-decoration-color: #008080; font-weight: bold\">1.3756</span>\n",
       "</pre>\n"
      ],
      "text/plain": [
       "\u001b[1;34mQuestion:\u001b[0m Who is older, The Weeknd or Drake? \u001b[1;32mAnswer:\u001b[0m Drake \u001b[1;31mPrediction:\u001b[0m The Weeknd \u001b[1;33mScore:\u001b[0m \u001b[1;36m1.3756\u001b[0m\n"
      ]
     },
     "metadata": {},
     "output_type": "display_data"
    },
    {
     "data": {
      "text/html": [
       "<pre style=\"white-space:pre;overflow-x:auto;line-height:normal;font-family:Menlo,'DejaVu Sans Mono',consolas,'Courier New',monospace\"><span style=\"color: #000080; text-decoration-color: #000080; font-weight: bold\">Question:</span> How many children did Donald Trump have? <span style=\"color: #008000; text-decoration-color: #008000; font-weight: bold\">Answer:</span> <span style=\"color: #008080; text-decoration-color: #008080; font-weight: bold\">5</span> <span style=\"color: #800000; text-decoration-color: #800000; font-weight: bold\">Prediction:</span> six <span style=\"color: #808000; text-decoration-color: #808000; font-weight: bold\">Score:</span> <span style=\"color: #008080; text-decoration-color: #008080; font-weight: bold\">2.0509</span>\n",
       "</pre>\n"
      ],
      "text/plain": [
       "\u001b[1;34mQuestion:\u001b[0m How many children did Donald Trump have? \u001b[1;32mAnswer:\u001b[0m \u001b[1;36m5\u001b[0m \u001b[1;31mPrediction:\u001b[0m six \u001b[1;33mScore:\u001b[0m \u001b[1;36m2.0509\u001b[0m\n"
      ]
     },
     "metadata": {},
     "output_type": "display_data"
    },
    {
     "data": {
      "text/html": [
       "<pre style=\"white-space:pre;overflow-x:auto;line-height:normal;font-family:Menlo,'DejaVu Sans Mono',consolas,'Courier New',monospace\"><span style=\"color: #000080; text-decoration-color: #000080; font-weight: bold\">Question:</span> Is the main hero in Final Fantasy IX named Kuja? <span style=\"color: #008000; text-decoration-color: #008000; font-weight: bold\">Answer:</span> No <span style=\"color: #800000; text-decoration-color: #800000; font-weight: bold\">Prediction:</span> Kuja <span style=\"color: #808000; text-decoration-color: #808000; font-weight: bold\">Score:</span> <span style=\"color: #008080; text-decoration-color: #008080; font-weight: bold\">0.8464</span>\n",
       "</pre>\n"
      ],
      "text/plain": [
       "\u001b[1;34mQuestion:\u001b[0m Is the main hero in Final Fantasy IX named Kuja? \u001b[1;32mAnswer:\u001b[0m No \u001b[1;31mPrediction:\u001b[0m Kuja \u001b[1;33mScore:\u001b[0m \u001b[1;36m0.8464\u001b[0m\n"
      ]
     },
     "metadata": {},
     "output_type": "display_data"
    },
    {
     "data": {
      "text/html": [
       "<pre style=\"white-space:pre;overflow-x:auto;line-height:normal;font-family:Menlo,'DejaVu Sans Mono',consolas,'Courier New',monospace\"><span style=\"color: #000080; text-decoration-color: #000080; font-weight: bold\">Question:</span> Who performed at the Super Bowl XXIII halftime show? <span style=\"color: #008000; text-decoration-color: #008000; font-weight: bold\">Answer:</span> Elvis Presto <span style=\"color: #800000; text-decoration-color: #800000; font-weight: bold\">Prediction:</span> Whoopi Goldberg \n",
       "<span style=\"color: #808000; text-decoration-color: #808000; font-weight: bold\">Score:</span> <span style=\"color: #008080; text-decoration-color: #008080; font-weight: bold\">0.2244</span>\n",
       "</pre>\n"
      ],
      "text/plain": [
       "\u001b[1;34mQuestion:\u001b[0m Who performed at the Super Bowl XXIII halftime show? \u001b[1;32mAnswer:\u001b[0m Elvis Presto \u001b[1;31mPrediction:\u001b[0m Whoopi Goldberg \n",
       "\u001b[1;33mScore:\u001b[0m \u001b[1;36m0.2244\u001b[0m\n"
      ]
     },
     "metadata": {},
     "output_type": "display_data"
    },
    {
     "data": {
      "text/html": [
       "<pre style=\"white-space:pre;overflow-x:auto;line-height:normal;font-family:Menlo,'DejaVu Sans Mono',consolas,'Courier New',monospace\"><span style=\"color: #000080; text-decoration-color: #000080; font-weight: bold\">Question:</span> Did Free Guy come out in <span style=\"color: #008080; text-decoration-color: #008080; font-weight: bold\">2021</span>? <span style=\"color: #008000; text-decoration-color: #008000; font-weight: bold\">Answer:</span> Yes <span style=\"color: #800000; text-decoration-color: #800000; font-weight: bold\">Prediction:</span> May <span style=\"color: #008080; text-decoration-color: #008080; font-weight: bold\">2</span>, <span style=\"color: #008080; text-decoration-color: #008080; font-weight: bold\">2021</span> <span style=\"color: #808000; text-decoration-color: #808000; font-weight: bold\">Score:</span> <span style=\"color: #008080; text-decoration-color: #008080; font-weight: bold\">0.2877</span>\n",
       "</pre>\n"
      ],
      "text/plain": [
       "\u001b[1;34mQuestion:\u001b[0m Did Free Guy come out in \u001b[1;36m2021\u001b[0m? \u001b[1;32mAnswer:\u001b[0m Yes \u001b[1;31mPrediction:\u001b[0m May \u001b[1;36m2\u001b[0m, \u001b[1;36m2021\u001b[0m \u001b[1;33mScore:\u001b[0m \u001b[1;36m0.2877\u001b[0m\n"
      ]
     },
     "metadata": {},
     "output_type": "display_data"
    },
    {
     "data": {
      "text/html": [
       "<pre style=\"white-space:pre;overflow-x:auto;line-height:normal;font-family:Menlo,'DejaVu Sans Mono',consolas,'Courier New',monospace\"><span style=\"color: #000080; text-decoration-color: #000080; font-weight: bold\">Question:</span> How many countries were in the Central Powers alliance in World War I? <span style=\"color: #008000; text-decoration-color: #008000; font-weight: bold\">Answer:</span> <span style=\"color: #008080; text-decoration-color: #008080; font-weight: bold\">4</span> <span style=\"color: #800000; text-decoration-color: #800000; font-weight: bold\">Prediction:</span> \n",
       "Austria-Hungary <span style=\"color: #808000; text-decoration-color: #808000; font-weight: bold\">Score:</span> <span style=\"color: #008080; text-decoration-color: #008080; font-weight: bold\">2.6849</span>\n",
       "</pre>\n"
      ],
      "text/plain": [
       "\u001b[1;34mQuestion:\u001b[0m How many countries were in the Central Powers alliance in World War I? \u001b[1;32mAnswer:\u001b[0m \u001b[1;36m4\u001b[0m \u001b[1;31mPrediction:\u001b[0m \n",
       "Austria-Hungary \u001b[1;33mScore:\u001b[0m \u001b[1;36m2.6849\u001b[0m\n"
      ]
     },
     "metadata": {},
     "output_type": "display_data"
    }
   ],
   "source": [
    "for i in range(8):\n",
    "    print(f\"[bold blue]Question:[/bold blue] {dataset['question'][i]} [bold green]Answer:[/bold green] {dataset['answer'][i]} [bold red]Prediction:[/bold red] {decoded[i]} [bold yellow]Score:[/bold yellow] {ue_scores[i]:.4f}\")"
   ]
  },
  {
   "cell_type": "code",
   "execution_count": null,
   "metadata": {},
   "outputs": [],
   "source": []
  }
 ],
 "metadata": {
  "kernelspec": {
   "display_name": "Python 3",
   "language": "python",
   "name": "python3"
  },
  "language_info": {
   "codemirror_mode": {
    "name": "ipython",
    "version": 3
   },
   "file_extension": ".py",
   "mimetype": "text/x-python",
   "name": "python",
   "nbconvert_exporter": "python",
   "pygments_lexer": "ipython3",
   "version": "3.10.8 (main, Oct 12 2022, 19:14:26) [GCC 9.4.0]"
  },
  "orig_nbformat": 4,
  "vscode": {
   "interpreter": {
    "hash": "97cc609b13305c559618ec78a438abc56230b9381f827f22d070313b9a1f3777"
   }
  }
 },
 "nbformat": 4,
 "nbformat_minor": 2
}
